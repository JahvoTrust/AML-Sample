{
  "cells": [
    {
      "cell_type": "code",
      "source": [
        "from azureml.core.workspace import Workspace\r\n",
        "from azureml.core.dataset import Dataset\r\n",
        "from azureml.core.experiment import Experiment\r\n",
        "from azureml.train.automl import AutoMLConfig\r\n",
        "from azureml.widgets import RunDetails\r\n",
        "from sklearn.model_selection import train_test_split\r\n",
        "from sklearn.metrics import mean_squared_error"
      ],
      "outputs": [],
      "execution_count": 1,
      "metadata": {
        "gather": {
          "logged": 1669854660443
        }
      }
    },
    {
      "cell_type": "markdown",
      "source": [
        "## AML Workspace 생성"
      ],
      "metadata": {
        "nteract": {
          "transient": {
            "deleting": false
          }
        }
      }
    },
    {
      "cell_type": "code",
      "source": [
        "ws = Workspace.from_config()"
      ],
      "outputs": [],
      "execution_count": 2,
      "metadata": {
        "jupyter": {
          "source_hidden": false,
          "outputs_hidden": false
        },
        "nteract": {
          "transient": {
            "deleting": false
          }
        },
        "gather": {
          "logged": 1669854670628
        }
      }
    },
    {
      "cell_type": "markdown",
      "source": [
        "## CSV 데이터를 Tabular 데이터셋으로 변환"
      ],
      "metadata": {
        "nteract": {
          "transient": {
            "deleting": false
          }
        }
      }
    },
    {
      "cell_type": "code",
      "source": [
        "data = \"https://kfdatalake01.blob.core.windows.net/data/Iris.csv\"\r\n",
        "dataset = Dataset.Tabular.from_delimited_files(data)"
      ],
      "outputs": [],
      "execution_count": 95,
      "metadata": {
        "jupyter": {
          "source_hidden": false,
          "outputs_hidden": false
        },
        "nteract": {
          "transient": {
            "deleting": false
          }
        },
        "gather": {
          "logged": 1669868659087
        }
      }
    },
    {
      "cell_type": "code",
      "source": [
        "# Get the default datastore\r\n",
        "default_ds = ws.get_default_datastore()\r\n",
        "\r\n",
        "# Enumerate all datastores, indicating which is the default\r\n",
        "for ds_name in ws.datastores:\r\n",
        "    print(ds_name, \"- Default =\", ds_name == default_ds.name)"
      ],
      "outputs": [
        {
          "output_type": "stream",
          "name": "stderr",
          "text": "2022-12-01:01:37:33,70 INFO     [datastore_client.py:991] <azureml.core.authentication.InteractiveLoginAuthentication object at 0x7f2307407100>\n2022-12-01:01:37:33,912 INFO     [datastore_client.py:991] <azureml.core.authentication.InteractiveLoginAuthentication object at 0x7f2307407100>\n"
        }
      ],
      "execution_count": 38,
      "metadata": {
        "jupyter": {
          "source_hidden": false,
          "outputs_hidden": false
        },
        "nteract": {
          "transient": {
            "deleting": false
          }
        },
        "gather": {
          "logged": 1669858653173
        }
      }
    },
    {
      "cell_type": "markdown",
      "source": [
        "## Dataset 을 Pandas 데이터프레임으로 변경"
      ],
      "metadata": {
        "nteract": {
          "transient": {
            "deleting": false
          }
        }
      }
    },
    {
      "cell_type": "code",
      "source": [
        "#from sklearn import datasets\r\n",
        "import pandas\r\n",
        "iris = pandas.load_iris()\r\n",
        "\r\n",
        "iris_data = pandas.DataFrame(iris.data)\r\n",
        "iris_data[\"Class\"] = pandas.Categorical.from_codes(iris.target, iris.target_names)\r\n",
        "\r\n"
      ],
      "outputs": [],
      "execution_count": 40,
      "metadata": {
        "jupyter": {
          "source_hidden": false,
          "outputs_hidden": false
        },
        "nteract": {
          "transient": {
            "deleting": false
          }
        },
        "gather": {
          "logged": 1669860029227
        }
      }
    },
    {
      "cell_type": "markdown",
      "source": [
        "## AML 데이터소스에 등록"
      ],
      "metadata": {
        "nteract": {
          "transient": {
            "deleting": false
          }
        }
      }
    },
    {
      "cell_type": "code",
      "source": [
        "# The default datastore is a blob storage container where datasets are stored\r\n",
        "datastore = ws.get_default_datastore()\r\n",
        "\r\n",
        "# Register the dataset\r\n",
        "ds = Dataset.Tabular.register_pandas_dataframe(\r\n",
        "        dataframe=iris_data, \r\n",
        "        name='Iris', \r\n",
        "        description='Sample dataset',\r\n",
        "        target=datastore\r\n",
        "    )"
      ],
      "outputs": [
        {
          "output_type": "stream",
          "name": "stderr",
          "text": "2022-12-01:02:00:33,72 INFO     [datastore_client.py:991] <azureml.core.authentication.InteractiveLoginAuthentication object at 0x7f2307407100>\n"
        },
        {
          "output_type": "stream",
          "name": "stdout",
          "text": "Validating arguments.\nArguments validated.\nSuccessfully obtained datastore reference and path.\nUploading file to managed-dataset/ca13570c-8492-4997-add9-cc828bba852b/\nSuccessfully uploaded file to datastore.\nCreating and registering a new dataset.\nSuccessfully created and registered a new dataset.\n"
        }
      ],
      "execution_count": 41,
      "metadata": {
        "jupyter": {
          "source_hidden": false,
          "outputs_hidden": false
        },
        "nteract": {
          "transient": {
            "deleting": false
          }
        },
        "gather": {
          "logged": 1669860037864
        }
      }
    },
    {
      "cell_type": "code",
      "source": [
        "# ds.to_csv_files(separator=',')"
      ],
      "outputs": [
        {
          "output_type": "execute_result",
          "execution_count": 65,
          "data": {
            "text/plain": "{\n  \"source\": [\n    \"('workspaceblobstore', 'managed-dataset/ca13570c-8492-4997-add9-cc828bba852b/')\"\n  ],\n  \"definition\": [\n    \"GetDatastoreFiles\",\n    \"ReadParquetFile\",\n    \"DropColumns\",\n    \"ToCsvStreams\"\n  ]\n}"
          },
          "metadata": {}
        }
      ],
      "execution_count": 65,
      "metadata": {
        "jupyter": {
          "source_hidden": false,
          "outputs_hidden": false
        },
        "nteract": {
          "transient": {
            "deleting": false
          }
        },
        "gather": {
          "logged": 1669865343163
        }
      }
    },
    {
      "cell_type": "code",
      "source": [
        "#iris_ds = Dataset.get_by_name(workspace=ws, name=\"Iris\")"
      ],
      "outputs": [],
      "execution_count": 64,
      "metadata": {
        "jupyter": {
          "source_hidden": false,
          "outputs_hidden": false
        },
        "nteract": {
          "transient": {
            "deleting": false
          }
        },
        "gather": {
          "logged": 1669864617840
        }
      }
    },
    {
      "cell_type": "code",
      "source": [
        "# iris_df.columns"
      ],
      "outputs": [
        {
          "output_type": "execute_result",
          "execution_count": 83,
          "data": {
            "text/plain": "Index(['Id', 'SepalLengthCm', 'SepalWidthCm', 'PetalLengthCm', 'PetalWidthCm',\n       'Species'],\n      dtype='object')"
          },
          "metadata": {}
        }
      ],
      "execution_count": 83,
      "metadata": {
        "jupyter": {
          "source_hidden": false,
          "outputs_hidden": false
        },
        "nteract": {
          "transient": {
            "deleting": false
          }
        },
        "gather": {
          "logged": 1669868403638
        }
      }
    },
    {
      "cell_type": "markdown",
      "source": [
        "## 컬럼 변경"
      ],
      "metadata": {
        "nteract": {
          "transient": {
            "deleting": false
          }
        }
      }
    },
    {
      "cell_type": "code",
      "source": [
        "iris_df = iris_df.rename(columns={\r\n",
        "    'Species': \"Class\"\r\n",
        "})"
      ],
      "outputs": [],
      "execution_count": 84,
      "metadata": {
        "jupyter": {
          "source_hidden": false,
          "outputs_hidden": false
        },
        "nteract": {
          "transient": {
            "deleting": false
          }
        },
        "gather": {
          "logged": 1669868439754
        }
      }
    },
    {
      "cell_type": "code",
      "source": [
        "iris_df.head()\r\n",
        "iris_df_ds = iris_df[['SepalLengthCm', 'SepalWidthCm', 'PetalLengthCm', 'PetalWidthCm','Class']]"
      ],
      "outputs": [],
      "execution_count": 87,
      "metadata": {
        "jupyter": {
          "source_hidden": false,
          "outputs_hidden": false
        },
        "nteract": {
          "transient": {
            "deleting": false
          }
        },
        "gather": {
          "logged": 1669868520169
        }
      }
    },
    {
      "cell_type": "code",
      "source": [
        "# X_train, X_test = train_test_split(dataset, test_size=0.2, random_state=42)"
      ],
      "outputs": [],
      "execution_count": null,
      "metadata": {
        "jupyter": {
          "source_hidden": false,
          "outputs_hidden": false
        },
        "nteract": {
          "transient": {
            "deleting": false
          }
        }
      }
    },
    {
      "cell_type": "markdown",
      "source": [
        "## 컴퓨팅 클러스터 생성"
      ],
      "metadata": {
        "nteract": {
          "transient": {
            "deleting": false
          }
        }
      }
    },
    {
      "cell_type": "code",
      "source": [
        "from azureml.core.compute import AmlCompute\r\n",
        "from azureml.core.compute import ComputeTarget\r\n",
        "import os\r\n",
        "\r\n",
        "# choose a name for your cluster\r\n",
        "batchai_cluster_name = 'cpucluster'\r\n",
        "cluster_min_nodes = 0\r\n",
        "cluster_max_nodes = 1\r\n",
        "vm_size = \"STANDARD_D2_V2\" \r\n",
        "      \r\n",
        "cts = ws.compute_targets\r\n",
        "if batchai_cluster_name in cts:\r\n",
        "    found = True\r\n",
        "    print('Found existing compute target...%s' % batchai_cluster_name)\r\n",
        "    compute_target = cts[batchai_cluster_name]\r\n",
        "else:\r\n",
        "    print('creating a new compute target...')\r\n",
        "    provisioning_config = AmlCompute.provisioning_configuration(vm_size = vm_size, \r\n",
        "                                                                vm_priority = 'lowpriority', #optional\r\n",
        "                                                                min_nodes = cluster_min_nodes, \r\n",
        "                                                                max_nodes = cluster_max_nodes)\r\n",
        "\r\n",
        "    # create the cluster\r\n",
        "    compute_target = ComputeTarget.create(ws, batchai_cluster_name, provisioning_config)\r\n",
        "    \r\n",
        "    # can poll for a minimum number of nodes and for a specific timeout. \r\n",
        "    # if no min node count is provided it will use the scale settings for the cluster\r\n",
        "    compute_target.wait_for_completion(show_output=True, min_node_count=None, timeout_in_minutes=20)\r\n",
        "    \r\n",
        "    # For a more detailed view of current BatchAI cluster status, use the 'status' property    \r\n",
        "    compute_target.status.serialize()"
      ],
      "outputs": [
        {
          "output_type": "stream",
          "name": "stdout",
          "text": "Found existing compute target...cpucluster\n"
        }
      ],
      "execution_count": 90,
      "metadata": {
        "jupyter": {
          "source_hidden": false,
          "outputs_hidden": false
        },
        "nteract": {
          "transient": {
            "deleting": false
          }
        },
        "gather": {
          "logged": 1669868551760
        }
      }
    },
    {
      "cell_type": "code",
      "source": [
        "automl_settings = {\r\n",
        "    \"iteration_timeout_minutes\": 2,\r\n",
        "    \"experiment_timeout_minutes\": 15,\r\n",
        "    \"enable_early_stopping\": True,\r\n",
        "    \"primary_metric\": 'AUC_weighted',\r\n",
        "    \"featurization\": 'auto',\r\n",
        "    \"n_cross_validations\": 5,\r\n",
        "}\r\n",
        "\r\n"
      ],
      "outputs": [],
      "execution_count": 97,
      "metadata": {
        "jupyter": {
          "source_hidden": false,
          "outputs_hidden": false
        },
        "nteract": {
          "transient": {
            "deleting": false
          }
        },
        "gather": {
          "logged": 1669869058732
        }
      }
    },
    {
      "cell_type": "code",
      "source": [
        "Automl_config = AutoMLConfig(task='classification',\r\n",
        "    debug_log='automl_errors.log',\r\n",
        "    training_data=dataset,\r\n",
        "    label_column_name=\"Class\",\r\n",
        "    compute_target=compute_target,\r\n",
        "    **automl_settings)\r\n",
        "\r\n",
        "   "
      ],
      "outputs": [],
      "execution_count": 98,
      "metadata": {
        "jupyter": {
          "source_hidden": false,
          "outputs_hidden": false
        },
        "nteract": {
          "transient": {
            "deleting": false
          }
        },
        "gather": {
          "logged": 1669869060123
        }
      }
    },
    {
      "cell_type": "code",
      "source": [
        "experiment = Experiment(ws, \"iris_experiment\")"
      ],
      "outputs": [],
      "execution_count": 99,
      "metadata": {
        "jupyter": {
          "source_hidden": false,
          "outputs_hidden": false
        },
        "nteract": {
          "transient": {
            "deleting": false
          }
        },
        "gather": {
          "logged": 1669869063332
        }
      }
    },
    {
      "cell_type": "code",
      "source": [
        "run = experiment.submit(Automl_config, show_output=True)"
      ],
      "outputs": [
        {
          "output_type": "stream",
          "name": "stdout",
          "text": "Submitting remote run.\nNo run_configuration provided, running on cpucluster with default configuration\nRunning on remote compute: cpucluster\n"
        },
        {
          "output_type": "display_data",
          "data": {
            "text/plain": "<IPython.core.display.HTML object>",
            "text/html": "<table style=\"width:100%\"><tr><th>Experiment</th><th>Id</th><th>Type</th><th>Status</th><th>Details Page</th><th>Docs Page</th></tr><tr><td>iris_experiment</td><td>AutoML_c2216245-2f41-4911-ba1a-eb291290f916</td><td>automl</td><td>NotStarted</td><td><a href=\"https://ml.azure.com/runs/AutoML_c2216245-2f41-4911-ba1a-eb291290f916?wsid=/subscriptions/87b8f4b8-4375-4702-8213-77830bb62784/resourcegroups/kefico-rg/workspaces/kfaml-ws&amp;tid=785087ba-1e72-4e7d-b1d1-4a9639137a66\" target=\"_blank\" rel=\"noopener\">Link to Azure Machine Learning studio</a></td><td><a href=\"https://docs.microsoft.com/en-us/python/api/overview/azure/ml/intro?view=azure-ml-py\" target=\"_blank\" rel=\"noopener\">Link to Documentation</a></td></tr></table>"
          },
          "metadata": {}
        },
        {
          "output_type": "stream",
          "name": "stdout",
          "text": "\nCurrent status: FeaturesGeneration. Generating features for the dataset.\nCurrent status: ModelSelection. Beginning model selection.\n\n********************************************************************************************\nDATA GUARDRAILS: \n\nTYPE:         Class balancing detection\nSTATUS:       PASSED\nDESCRIPTION:  Your inputs were analyzed, and all classes are balanced in your training data.\n              Learn more about imbalanced data: https://aka.ms/AutomatedMLImbalancedData\n\n********************************************************************************************\n\nTYPE:         Missing feature values imputation\nSTATUS:       PASSED\nDESCRIPTION:  No feature missing values were detected in the training data.\n              Learn more about missing value imputation: https://aka.ms/AutomatedMLFeaturization\n\n********************************************************************************************\n\nTYPE:         High cardinality feature detection\nSTATUS:       PASSED\nDESCRIPTION:  Your inputs were analyzed, and no high cardinality features were detected.\n              Learn more about high cardinality feature handling: https://aka.ms/AutomatedMLFeaturization\n\n********************************************************************************************\n\n********************************************************************************************\nITER: The iteration being evaluated.\nPIPELINE: A summary description of the pipeline being evaluated.\nDURATION: Time taken for the current iteration.\nMETRIC: The result of computing score on the fitted pipeline.\nBEST: The best observed score thus far.\n********************************************************************************************\n\n ITER   PIPELINE                                       DURATION            METRIC      BEST\n    0   MaxAbsScaler LightGBM                          0:01:06             0.9871    0.9871\n    1   MaxAbsScaler XGBoostClassifier                 0:01:21             0.9816    0.9871\n    2   MaxAbsScaler ExtremeRandomTrees                0:00:42             0.9976    0.9976\n    3   MaxAbsScaler RandomForest                      0:00:46             0.9828    0.9976\n    4   StandardScalerWrapper LightGBM                 0:00:54             0.9881    0.9976\n    5   StandardScalerWrapper KNN                      0:00:58             0.9973    0.9976\n    6   SparseNormalizer XGBoostClassifier             0:01:01             0.9946    0.9976\n    7   SparseNormalizer RandomForest                  0:00:52             0.9938    0.9976\n    8   RobustScaler KNN                               0:00:46             0.9959    0.9976\n    9   MinMaxScaler RandomForest                      0:00:31             0.9932    0.9976\n   10   StandardScalerWrapper LogisticRegression       0:00:50             0.9956    0.9976\n   11   StandardScalerWrapper SVM                      0:00:42             0.9907    0.9976\n   12   StandardScalerWrapper XGBoostClassifier        0:00:51             0.9883    0.9976\n   13   SparseNormalizer KNN                           0:00:59             0.9921    0.9976\n   14   RobustScaler ExtremeRandomTrees                0:00:49             0.9959    0.9976\n   15   SparseNormalizer XGBoostClassifier             0:00:32             0.9916    0.9976\n   16   MinMaxScaler ExtremeRandomTrees                0:01:04             0.9966    0.9976\n   17                                                  0:15:24                nan    0.9976\n   18                                                  0:15:23                nan    0.9976\n   19                                                  0:15:23                nan    0.9976\n   20    VotingEnsemble                                0:04:50             0.9980    0.9980\n   21    StackEnsemble                                 0:04:51             0.9970    0.9980\n"
        }
      ],
      "execution_count": 100,
      "metadata": {
        "jupyter": {
          "source_hidden": false,
          "outputs_hidden": false
        },
        "nteract": {
          "transient": {
            "deleting": false
          }
        },
        "gather": {
          "logged": 1669871599578
        }
      }
    },
    {
      "cell_type": "code",
      "source": [
        "best_run, fitted_model = run.get_output()"
      ],
      "outputs": [],
      "execution_count": 101,
      "metadata": {
        "jupyter": {
          "source_hidden": false,
          "outputs_hidden": false
        },
        "nteract": {
          "transient": {
            "deleting": false
          }
        },
        "gather": {
          "logged": 1669871646950
        }
      }
    },
    {
      "cell_type": "code",
      "source": [
        "from azureml.widgets import RunDetails\r\n",
        "RunDetails(run).show()"
      ],
      "outputs": [
        {
          "output_type": "display_data",
          "data": {
            "text/plain": "_AutoMLWidget(widget_settings={'childWidgetDisplay': 'popup', 'send_telemetry': False, 'log_level': 'INFO', 's…",
            "application/vnd.jupyter.widget-view+json": {
              "version_major": 2,
              "version_minor": 0,
              "model_id": "d8e684b72db2486f850918e839e0137f"
            }
          },
          "metadata": {}
        },
        {
          "output_type": "display_data",
          "data": {
            "application/aml.mini.widget.v1": "{\"status\": \"Completed\", \"workbench_run_details_uri\": \"https://ml.azure.com/runs/AutoML_c2216245-2f41-4911-ba1a-eb291290f916?wsid=/subscriptions/87b8f4b8-4375-4702-8213-77830bb62784/resourcegroups/kefico-rg/workspaces/kfaml-ws&tid=785087ba-1e72-4e7d-b1d1-4a9639137a66\", \"run_id\": \"AutoML_c2216245-2f41-4911-ba1a-eb291290f916\", \"run_properties\": {\"run_id\": \"AutoML_c2216245-2f41-4911-ba1a-eb291290f916\", \"created_utc\": \"2022-12-01T04:31:09.399401Z\", \"properties\": {\"num_iterations\": \"1000\", \"training_type\": \"TrainFull\", \"acquisition_function\": \"EI\", \"primary_metric\": \"AUC_weighted\", \"train_split\": \"0\", \"acquisition_parameter\": \"0\", \"num_cross_validation\": \"5\", \"target\": \"cpucluster\", \"AMLSettingsJsonString\": \"{\\\"path\\\":null,\\\"name\\\":\\\"iris_experiment\\\",\\\"subscription_id\\\":\\\"87b8f4b8-4375-4702-8213-77830bb62784\\\",\\\"resource_group\\\":\\\"kefico-rg\\\",\\\"workspace_name\\\":\\\"kfaml-ws\\\",\\\"region\\\":\\\"koreacentral\\\",\\\"compute_target\\\":\\\"cpucluster\\\",\\\"spark_service\\\":null,\\\"azure_service\\\":\\\"remote\\\",\\\"many_models\\\":false,\\\"pipeline_fetch_max_batch_size\\\":1,\\\"enable_batch_run\\\":true,\\\"enable_parallel_run\\\":false,\\\"num_procs\\\":null,\\\"enable_run_restructure\\\":false,\\\"start_auxiliary_runs_before_parent_complete\\\":false,\\\"enable_code_generation\\\":true,\\\"iterations\\\":1000,\\\"primary_metric\\\":\\\"AUC_weighted\\\",\\\"task_type\\\":\\\"classification\\\",\\\"positive_label\\\":null,\\\"data_script\\\":null,\\\"test_size\\\":0.0,\\\"test_include_predictions_only\\\":false,\\\"validation_size\\\":0.0,\\\"n_cross_validations\\\":5,\\\"y_min\\\":null,\\\"y_max\\\":null,\\\"num_classes\\\":null,\\\"featurization\\\":\\\"auto\\\",\\\"_ignore_package_version_incompatibilities\\\":false,\\\"is_timeseries\\\":false,\\\"max_cores_per_iteration\\\":1,\\\"max_concurrent_iterations\\\":1,\\\"iteration_timeout_minutes\\\":2,\\\"mem_in_mb\\\":null,\\\"enforce_time_on_windows\\\":false,\\\"experiment_timeout_minutes\\\":15,\\\"experiment_exit_score\\\":null,\\\"partition_column_names\\\":null,\\\"whitelist_models\\\":null,\\\"blacklist_algos\\\":[\\\"TensorFlowLinearClassifier\\\",\\\"TensorFlowDNN\\\"],\\\"supported_models\\\":[\\\"TensorFlowDNN\\\",\\\"TensorFlowLinearClassifier\\\",\\\"LightGBM\\\",\\\"LinearSVM\\\",\\\"ExtremeRandomTrees\\\",\\\"SVM\\\",\\\"DecisionTree\\\",\\\"RandomForest\\\",\\\"AveragedPerceptronClassifier\\\",\\\"TabnetClassifier\\\",\\\"SGD\\\",\\\"MultinomialNaiveBayes\\\",\\\"GradientBoosting\\\",\\\"KNN\\\",\\\"BernoulliNaiveBayes\\\",\\\"XGBoostClassifier\\\",\\\"LogisticRegression\\\"],\\\"private_models\\\":[],\\\"auto_blacklist\\\":true,\\\"blacklist_samples_reached\\\":false,\\\"exclude_nan_labels\\\":true,\\\"verbosity\\\":20,\\\"_debug_log\\\":\\\"azureml_automl.log\\\",\\\"show_warnings\\\":false,\\\"model_explainability\\\":true,\\\"service_url\\\":null,\\\"sdk_url\\\":null,\\\"sdk_packages\\\":null,\\\"enable_onnx_compatible_models\\\":false,\\\"enable_split_onnx_featurizer_estimator_models\\\":false,\\\"vm_type\\\":\\\"STANDARD_D2_V2\\\",\\\"telemetry_verbosity\\\":20,\\\"send_telemetry\\\":true,\\\"enable_dnn\\\":false,\\\"scenario\\\":\\\"AutoML\\\",\\\"environment_label\\\":null,\\\"save_mlflow\\\":false,\\\"enable_categorical_indicators\\\":false,\\\"force_text_dnn\\\":false,\\\"enable_feature_sweeping\\\":true,\\\"enable_early_stopping\\\":true,\\\"early_stopping_n_iters\\\":10,\\\"arguments\\\":null,\\\"dataset_id\\\":\\\"e1bdc997-b438-47de-925e-50a4d6f673bc\\\",\\\"hyperdrive_config\\\":null,\\\"validation_dataset_id\\\":null,\\\"run_source\\\":null,\\\"metrics\\\":null,\\\"enable_metric_confidence\\\":false,\\\"enable_ensembling\\\":true,\\\"enable_stack_ensembling\\\":true,\\\"ensemble_iterations\\\":15,\\\"enable_tf\\\":false,\\\"enable_subsampling\\\":null,\\\"subsample_seed\\\":null,\\\"enable_nimbusml\\\":false,\\\"enable_streaming\\\":false,\\\"force_streaming\\\":false,\\\"track_child_runs\\\":true,\\\"n_best_runs\\\":1,\\\"allowed_private_models\\\":[],\\\"label_column_name\\\":\\\"Class\\\",\\\"weight_column_name\\\":null,\\\"cv_split_column_names\\\":null,\\\"enable_local_managed\\\":false,\\\"_local_managed_run_id\\\":null,\\\"cost_mode\\\":1,\\\"lag_length\\\":0,\\\"metric_operation\\\":\\\"maximize\\\",\\\"preprocess\\\":true}\", \"DataPrepJsonString\": \"{\\\\\\\"training_data\\\\\\\": {\\\\\\\"datasetId\\\\\\\": \\\\\\\"e1bdc997-b438-47de-925e-50a4d6f673bc\\\\\\\"}, \\\\\\\"datasets\\\\\\\": 0}\", \"EnableSubsampling\": null, \"runTemplate\": \"AutoML\", \"azureml.runsource\": \"automl\", \"display_task_type\": \"classification\", \"dependencies_versions\": \"{\\\"azureml-widgets\\\": \\\"1.47.0\\\", \\\"azureml-training-tabular\\\": \\\"1.47.0\\\", \\\"azureml-train\\\": \\\"1.47.0\\\", \\\"azureml-train-restclients-hyperdrive\\\": \\\"1.47.0\\\", \\\"azureml-train-core\\\": \\\"1.47.0\\\", \\\"azureml-train-automl\\\": \\\"1.47.0\\\", \\\"azureml-train-automl-runtime\\\": \\\"1.47.0\\\", \\\"azureml-train-automl-client\\\": \\\"1.47.0\\\", \\\"azureml-tensorboard\\\": \\\"1.47.0\\\", \\\"azureml-telemetry\\\": \\\"1.47.0\\\", \\\"azureml-sdk\\\": \\\"1.47.0\\\", \\\"azureml-samples\\\": \\\"0+unknown\\\", \\\"azureml-responsibleai\\\": \\\"1.47.0\\\", \\\"azureml-pipeline\\\": \\\"1.47.0\\\", \\\"azureml-pipeline-steps\\\": \\\"1.47.0\\\", \\\"azureml-pipeline-core\\\": \\\"1.47.0\\\", \\\"azureml-opendatasets\\\": \\\"1.47.0\\\", \\\"azureml-mlflow\\\": \\\"1.47.0\\\", \\\"azureml-interpret\\\": \\\"1.47.0\\\", \\\"azureml-inference-server-http\\\": \\\"0.7.6\\\", \\\"azureml-explain-model\\\": \\\"1.47.0\\\", \\\"azureml-defaults\\\": \\\"1.47.0\\\", \\\"azureml-dataset-runtime\\\": \\\"1.47.0\\\", \\\"azureml-dataprep\\\": \\\"4.5.7\\\", \\\"azureml-dataprep-rslex\\\": \\\"2.11.4\\\", \\\"azureml-dataprep-native\\\": \\\"38.0.0\\\", \\\"azureml-datadrift\\\": \\\"1.47.0\\\", \\\"azureml-core\\\": \\\"1.47.0\\\", \\\"azureml-contrib-services\\\": \\\"1.47.0\\\", \\\"azureml-contrib-server\\\": \\\"1.47.0\\\", \\\"azureml-contrib-reinforcementlearning\\\": \\\"1.47.0\\\", \\\"azureml-contrib-pipeline-steps\\\": \\\"1.47.0\\\", \\\"azureml-contrib-notebook\\\": \\\"1.47.0\\\", \\\"azureml-contrib-fairness\\\": \\\"1.47.0\\\", \\\"azureml-contrib-dataset\\\": \\\"1.47.0\\\", \\\"azureml-contrib-automl-pipeline-steps\\\": \\\"1.47.0\\\", \\\"azureml-cli-common\\\": \\\"1.47.0\\\", \\\"azureml-automl-runtime\\\": \\\"1.47.0\\\", \\\"azureml-automl-dnn-nlp\\\": \\\"1.47.0\\\", \\\"azureml-automl-core\\\": \\\"1.47.0\\\", \\\"azureml-accel-models\\\": \\\"1.47.0\\\"}\", \"_aml_system_scenario_identification\": \"Remote.Parent\", \"ClientType\": \"SDK\", \"environment_cpu_name\": \"AzureML-AutoML\", \"environment_cpu_label\": \"prod\", \"environment_gpu_name\": \"AzureML-AutoML-GPU\", \"environment_gpu_label\": \"prod\", \"root_attribution\": \"automl\", \"attribution\": \"AutoML\", \"Orchestrator\": \"AutoML\", \"CancelUri\": \"https://koreacentral.api.azureml.ms/jasmine/v1.0/subscriptions/87b8f4b8-4375-4702-8213-77830bb62784/resourceGroups/kefico-rg/providers/Microsoft.MachineLearningServices/workspaces/kfaml-ws/experimentids/93653e8e-f619-421f-8efc-1d5b3ee27d61/cancel/AutoML_c2216245-2f41-4911-ba1a-eb291290f916\", \"ClientSdkVersion\": \"1.46.1\", \"snapshotId\": \"00000000-0000-0000-0000-000000000000\", \"SetupRunId\": \"AutoML_c2216245-2f41-4911-ba1a-eb291290f916_setup\", \"SetupRunContainerId\": \"dcid.AutoML_c2216245-2f41-4911-ba1a-eb291290f916_setup\", \"FeaturizationRunJsonPath\": \"featurizer_container.json\", \"FeaturizationRunId\": \"AutoML_c2216245-2f41-4911-ba1a-eb291290f916_featurize\", \"ProblemInfoJsonString\": \"{\\\"dataset_num_categorical\\\": 0, \\\"is_sparse\\\": false, \\\"subsampling\\\": false, \\\"has_extra_col\\\": true, \\\"dataset_classes\\\": 3, \\\"dataset_features\\\": 4, \\\"dataset_samples\\\": 150, \\\"single_frequency_class_detected\\\": false}\", \"ModelExplainRunId\": \"AutoML_c2216245-2f41-4911-ba1a-eb291290f916_ModelExplain\"}, \"tags\": {\"model_explain_run\": \"best_run\", \"_aml_system_automl_run_workspace_id\": \"217624c0-7419-45fe-aaf6-382da7d187f9\", \"_aml_system_azureml.automlComponent\": \"AutoML\", \"pipeline_id\": \"\", \"score\": \"\", \"predicted_cost\": \"\", \"fit_time\": \"\", \"training_percent\": \"\", \"iteration\": \"\", \"run_preprocessor\": \"\", \"run_algorithm\": \"\", \"_aml_system_azureml.automl_early_exit_message\": \"Experiment timeout reached, hence experiment stopped. Current experiment timeout: 0 hour(s) 15 minute(s)\", \"automl_best_child_run_id\": \"AutoML_c2216245-2f41-4911-ba1a-eb291290f916_20\", \"model_explain_best_run_child_id\": \"AutoML_c2216245-2f41-4911-ba1a-eb291290f916_20\"}, \"end_time_utc\": \"2022-12-01T05:06:58.974086Z\", \"status\": \"Completed\", \"log_files\": {}, \"log_groups\": [], \"run_duration\": \"0:35:49\", \"run_number\": \"1669869069\", \"run_queued_details\": {\"status\": \"Completed\", \"details\": null}}, \"child_runs\": [{\"run_id\": \"AutoML_c2216245-2f41-4911-ba1a-eb291290f916_setup\", \"run_number\": 1669869082, \"metric\": null, \"status\": \"Completed\", \"run_type\": \"azureml.scriptrun\", \"training_percent\": null, \"start_time\": \"2022-12-01T04:33:51.947319Z\", \"end_time\": \"2022-12-01T04:35:45.926786Z\", \"created_time\": \"2022-12-01T04:31:22.237565Z\", \"created_time_dt\": \"2022-12-01T04:31:22.237565Z\", \"duration\": \"0:04:23\", \"iteration\": null, \"goal\": null, \"run_name\": \"Completed\", \"run_properties\": null}, {\"run_id\": \"AutoML_c2216245-2f41-4911-ba1a-eb291290f916_featurize\", \"run_number\": 1669869346, \"metric\": null, \"status\": \"Completed\", \"run_type\": \"automl.featurization\", \"training_percent\": null, \"start_time\": \"2022-12-01T04:35:46.334968Z\", \"end_time\": \"2022-12-01T04:41:22.613409Z\", \"created_time\": \"2022-12-01T04:35:46.127037Z\", \"created_time_dt\": \"2022-12-01T04:35:46.127037Z\", \"duration\": \"0:05:36\", \"iteration\": null, \"goal\": null, \"run_name\": \"Completed\", \"run_properties\": null}, {\"run_id\": \"AutoML_c2216245-2f41-4911-ba1a-eb291290f916_0\", \"run_number\": 1669869684, \"metric\": null, \"status\": \"Completed\", \"run_type\": null, \"training_percent\": \"100\", \"start_time\": \"2022-12-01T04:41:54.032779Z\", \"end_time\": \"2022-12-01T04:42:59.968942Z\", \"created_time\": \"2022-12-01T04:41:24.932707Z\", \"created_time_dt\": \"2022-12-01T04:41:24.932707Z\", \"duration\": \"0:01:35\", \"iteration\": \"0\", \"goal\": \"AUC_weighted_max\", \"run_name\": \"MaxAbsScaler, LightGBM\", \"run_properties\": \"copy=True\", \"primary_metric\": 0.98712698, \"best_metric\": 0.98712698}, {\"run_id\": \"AutoML_c2216245-2f41-4911-ba1a-eb291290f916_1\", \"run_number\": 1669869685, \"metric\": null, \"status\": \"Completed\", \"run_type\": null, \"training_percent\": \"100\", \"start_time\": \"2022-12-01T04:43:00.452394Z\", \"end_time\": \"2022-12-01T04:44:21.510963Z\", \"created_time\": \"2022-12-01T04:41:25.277362Z\", \"created_time_dt\": \"2022-12-01T04:41:25.277362Z\", \"duration\": \"0:02:56\", \"iteration\": \"1\", \"goal\": \"AUC_weighted_max\", \"run_name\": \"MaxAbsScaler, XGBoostClassifier\", \"run_properties\": \"copy=True\", \"primary_metric\": 0.9815739, \"best_metric\": 0.98712698}, {\"run_id\": \"AutoML_c2216245-2f41-4911-ba1a-eb291290f916_4\", \"run_number\": 1669869686, \"metric\": null, \"status\": \"Completed\", \"run_type\": null, \"training_percent\": \"100\", \"start_time\": \"2022-12-01T04:45:55.204088Z\", \"end_time\": \"2022-12-01T04:46:48.976266Z\", \"created_time\": \"2022-12-01T04:41:26.282944Z\", \"created_time_dt\": \"2022-12-01T04:41:26.282944Z\", \"duration\": \"0:05:22\", \"iteration\": \"4\", \"goal\": \"AUC_weighted_max\", \"run_name\": \"StandardScalerWrapper, LightGBM\", \"run_properties\": \"copy=True, with_mean=False, with_std=True\", \"primary_metric\": 0.98810829, \"best_metric\": 0.98810829}, {\"run_id\": \"AutoML_c2216245-2f41-4911-ba1a-eb291290f916_7\", \"run_number\": 1669869687, \"metric\": null, \"status\": \"Completed\", \"run_type\": null, \"training_percent\": \"100\", \"start_time\": \"2022-12-01T04:48:49.625902Z\", \"end_time\": \"2022-12-01T04:49:41.512387Z\", \"created_time\": \"2022-12-01T04:41:27.301485Z\", \"created_time_dt\": \"2022-12-01T04:41:27.301485Z\", \"duration\": \"0:08:14\", \"iteration\": \"7\", \"goal\": \"AUC_weighted_max\", \"run_name\": \"SparseNormalizer, RandomForest\", \"run_properties\": \"copy=True, norm='l2'\", \"primary_metric\": 0.99380918, \"best_metric\": 0.99380918}, {\"run_id\": \"AutoML_c2216245-2f41-4911-ba1a-eb291290f916_9\", \"run_number\": 1669869688, \"metric\": null, \"status\": \"Completed\", \"run_type\": null, \"training_percent\": \"100\", \"start_time\": \"2022-12-01T04:50:28.473571Z\", \"end_time\": \"2022-12-01T04:50:59.909164Z\", \"created_time\": \"2022-12-01T04:41:28.001446Z\", \"created_time_dt\": \"2022-12-01T04:41:28.001446Z\", \"duration\": \"0:09:31\", \"iteration\": \"9\", \"goal\": \"AUC_weighted_max\", \"run_name\": \"MinMaxScaler, RandomForest\", \"run_properties\": \"copy=True, feature_range=(0, 1\", \"primary_metric\": 0.9931612, \"best_metric\": 0.99380918}, {\"run_id\": \"AutoML_c2216245-2f41-4911-ba1a-eb291290f916_12\", \"run_number\": 1669869689, \"metric\": null, \"status\": \"Completed\", \"run_type\": null, \"training_percent\": \"100\", \"start_time\": \"2022-12-01T04:52:32.791095Z\", \"end_time\": \"2022-12-01T04:53:23.406235Z\", \"created_time\": \"2022-12-01T04:41:29.081453Z\", \"created_time_dt\": \"2022-12-01T04:41:29.081453Z\", \"duration\": \"0:11:54\", \"iteration\": \"12\", \"goal\": \"AUC_weighted_max\", \"run_name\": \"StandardScalerWrapper, XGBoostClassifier\", \"run_properties\": \"copy=True, with_mean=False, with_std=False\", \"primary_metric\": 0.98832488, \"best_metric\": 0.99380918}, {\"run_id\": \"AutoML_c2216245-2f41-4911-ba1a-eb291290f916_17\", \"run_number\": 1669869690, \"metric\": null, \"status\": \"Canceled\", \"run_type\": null, \"training_percent\": \"100\", \"start_time\": \"2022-12-01T04:41:30.697739Z\", \"end_time\": \"2022-12-01T04:56:54.315591Z\", \"created_time\": \"2022-12-01T04:41:30.697739Z\", \"created_time_dt\": \"2022-12-01T04:41:30.697739Z\", \"duration\": \"0:15:23\", \"iteration\": \"17\", \"goal\": null, \"run_name\": \"Canceled\", \"run_properties\": null}, {\"run_id\": \"AutoML_c2216245-2f41-4911-ba1a-eb291290f916_18\", \"run_number\": 1669869691, \"metric\": null, \"status\": \"Canceled\", \"run_type\": null, \"training_percent\": \"100\", \"start_time\": \"2022-12-01T04:41:31.007895Z\", \"end_time\": \"2022-12-01T04:56:54.360762Z\", \"created_time\": \"2022-12-01T04:41:31.007895Z\", \"created_time_dt\": \"2022-12-01T04:41:31.007895Z\", \"duration\": \"0:15:23\", \"iteration\": \"18\", \"goal\": null, \"run_name\": \"Canceled\", \"run_properties\": null}, {\"run_id\": \"AutoML_c2216245-2f41-4911-ba1a-eb291290f916_20\", \"run_number\": 1669870615, \"metric\": null, \"status\": \"Completed\", \"run_type\": \"azureml.scriptrun\", \"training_percent\": \"100\", \"start_time\": \"2022-12-01T04:57:05.846844Z\", \"end_time\": \"2022-12-01T05:01:55.828632Z\", \"created_time\": \"2022-12-01T04:56:55.106869Z\", \"created_time_dt\": \"2022-12-01T04:56:55.106869Z\", \"duration\": \"0:05:00\", \"iteration\": \"20\", \"goal\": \"AUC_weighted_max\", \"run_name\": \"VotingEnsemble\", \"run_properties\": \"classification_labels=numpy.array([0, 1, 2]\", \"primary_metric\": 0.99797354, \"best_metric\": 0.99797354}, {\"run_id\": \"AutoML_c2216245-2f41-4911-ba1a-eb291290f916_21\", \"run_number\": 1669870916, \"metric\": null, \"status\": \"Completed\", \"run_type\": \"azureml.scriptrun\", \"training_percent\": \"100\", \"start_time\": \"2022-12-01T05:02:05.718331Z\", \"end_time\": \"2022-12-01T05:06:57.111494Z\", \"created_time\": \"2022-12-01T05:01:56.353421Z\", \"created_time_dt\": \"2022-12-01T05:01:56.353421Z\", \"duration\": \"0:05:00\", \"iteration\": \"21\", \"goal\": \"AUC_weighted_max\", \"run_name\": \"StackEnsemble\", \"run_properties\": \"base_learners=[('2', Pipeline(memory=None, steps=[('maxabsscaler', MaxAbsScaler(copy=True\", \"primary_metric\": 0.99696825, \"best_metric\": 0.99797354}], \"children_metrics\": {\"categories\": [0], \"series\": {\"f1_score_weighted\": [{\"categories\": [\"0\", \"1\", \"4\", \"7\", \"9\", \"12\", \"20\", \"21\"], \"mode\": \"markers\", \"name\": \"f1_score_weighted\", \"stepped\": false, \"type\": \"scatter\", \"data\": [0.9533723707664885, 0.9465642363721471, 0.9530986255124188, 0.9666859785629651, 0.9465642363721471, 0.9465557260585393, 0.9530809249975315, 0.8646977317202206]}, {\"categories\": [\"0\", \"1\", \"4\", \"7\", \"9\", \"12\", \"20\", \"21\"], \"mode\": \"lines\", \"name\": \"f1_score_weighted_max\", \"stepped\": true, \"type\": \"scatter\", \"data\": [0.9533723707664885, 0.9533723707664885, 0.9533723707664885, 0.9666859785629651, 0.9666859785629651, 0.9666859785629651, 0.9666859785629651, 0.9666859785629651]}], \"balanced_accuracy\": [{\"categories\": [\"0\", \"1\", \"4\", \"7\", \"9\", \"12\", \"20\", \"21\"], \"mode\": \"markers\", \"name\": \"balanced_accuracy\", \"stepped\": false, \"type\": \"scatter\", \"data\": [0.9544444444444444, 0.9449206349206349, 0.9504761904761905, 0.9670899470899471, 0.9449206349206349, 0.9457142857142857, 0.9504761904761905, 0.9041798941798943]}, {\"categories\": [\"0\", \"1\", \"4\", \"7\", \"9\", \"12\", \"20\", \"21\"], \"mode\": \"lines\", \"name\": \"balanced_accuracy_max\", \"stepped\": true, \"type\": \"scatter\", \"data\": [0.9544444444444444, 0.9544444444444444, 0.9544444444444444, 0.9670899470899471, 0.9670899470899471, 0.9670899470899471, 0.9670899470899471, 0.9670899470899471]}], \"f1_score_micro\": [{\"categories\": [\"0\", \"1\", \"4\", \"7\", \"9\", \"12\", \"20\", \"21\"], \"mode\": \"markers\", \"name\": \"f1_score_micro\", \"stepped\": false, \"type\": \"scatter\", \"data\": [0.9533333333333335, 0.9466666666666669, 0.9533333333333335, 0.9666666666666668, 0.9466666666666669, 0.9466666666666667, 0.9533333333333335, 0.8933333333333333]}, {\"categories\": [\"0\", \"1\", \"4\", \"7\", \"9\", \"12\", \"20\", \"21\"], \"mode\": \"lines\", \"name\": \"f1_score_micro_max\", \"stepped\": true, \"type\": \"scatter\", \"data\": [0.9533333333333335, 0.9533333333333335, 0.9533333333333335, 0.9666666666666668, 0.9666666666666668, 0.9666666666666668, 0.9666666666666668, 0.9666666666666668]}], \"average_precision_score_macro\": [{\"categories\": [\"0\", \"1\", \"4\", \"7\", \"9\", \"12\", \"20\", \"21\"], \"mode\": \"markers\", \"name\": \"average_precision_score_macro\", \"stepped\": false, \"type\": \"scatter\", \"data\": [0.9823275181608515, 0.9682359677359678, 0.9794065694548786, 0.9893318343913583, 0.9886260241815797, 0.979993787811248, 0.9962957618513174, 0.994568302068302]}, {\"categories\": [\"0\", \"1\", \"4\", \"7\", \"9\", \"12\", \"20\", \"21\"], \"mode\": \"lines\", \"name\": \"average_precision_score_macro_max\", \"stepped\": true, \"type\": \"scatter\", \"data\": [0.9823275181608515, 0.9823275181608515, 0.9823275181608515, 0.9893318343913583, 0.9893318343913583, 0.9893318343913583, 0.9962957618513174, 0.9962957618513174]}], \"AUC_macro\": [{\"categories\": [\"0\", \"1\", \"4\", \"7\", \"9\", \"12\", \"20\", \"21\"], \"mode\": \"markers\", \"name\": \"AUC_macro\", \"stepped\": false, \"type\": \"scatter\", \"data\": [0.9872768959435625, 0.9813879495437468, 0.9882574380799019, 0.9939222835672112, 0.993305938961736, 0.9885562648569894, 0.9979911816578484, 0.9969770723104057]}, {\"categories\": [\"0\", \"1\", \"4\", \"7\", \"9\", \"12\", \"20\", \"21\"], \"mode\": \"lines\", \"name\": \"AUC_macro_max\", \"stepped\": true, \"type\": \"scatter\", \"data\": [0.9872768959435625, 0.9872768959435625, 0.9882574380799019, 0.9939222835672112, 0.9939222835672112, 0.9939222835672112, 0.9979911816578484, 0.9979911816578484]}], \"norm_macro_recall\": [{\"categories\": [\"0\", \"1\", \"4\", \"7\", \"9\", \"12\", \"20\", \"21\"], \"mode\": \"markers\", \"name\": \"norm_macro_recall\", \"stepped\": false, \"type\": \"scatter\", \"data\": [0.9316666666666666, 0.9173809523809522, 0.9257142857142856, 0.9506349206349206, 0.9173809523809522, 0.9185714285714284, 0.9257142857142856, 0.8562698412698412]}, {\"categories\": [\"0\", \"1\", \"4\", \"7\", \"9\", \"12\", \"20\", \"21\"], \"mode\": \"lines\", \"name\": \"norm_macro_recall_max\", \"stepped\": true, \"type\": \"scatter\", \"data\": [0.9316666666666666, 0.9316666666666666, 0.9316666666666666, 0.9506349206349206, 0.9506349206349206, 0.9506349206349206, 0.9506349206349206, 0.9506349206349206]}], \"recall_score_macro\": [{\"categories\": [\"0\", \"1\", \"4\", \"7\", \"9\", \"12\", \"20\", \"21\"], \"mode\": \"markers\", \"name\": \"recall_score_macro\", \"stepped\": false, \"type\": \"scatter\", \"data\": [0.9544444444444444, 0.9449206349206349, 0.9504761904761905, 0.9670899470899471, 0.9449206349206349, 0.9457142857142857, 0.9504761904761905, 0.9041798941798943]}, {\"categories\": [\"0\", \"1\", \"4\", \"7\", \"9\", \"12\", \"20\", \"21\"], \"mode\": \"lines\", \"name\": \"recall_score_macro_max\", \"stepped\": true, \"type\": \"scatter\", \"data\": [0.9544444444444444, 0.9544444444444444, 0.9544444444444444, 0.9670899470899471, 0.9670899470899471, 0.9670899470899471, 0.9670899470899471, 0.9670899470899471]}], \"precision_score_micro\": [{\"categories\": [\"0\", \"1\", \"4\", \"7\", \"9\", \"12\", \"20\", \"21\"], \"mode\": \"markers\", \"name\": \"precision_score_micro\", \"stepped\": false, \"type\": \"scatter\", \"data\": [0.9533333333333335, 0.9466666666666669, 0.9533333333333335, 0.9666666666666668, 0.9466666666666669, 0.9466666666666667, 0.9533333333333335, 0.8933333333333333]}, {\"categories\": [\"0\", \"1\", \"4\", \"7\", \"9\", \"12\", \"20\", \"21\"], \"mode\": \"lines\", \"name\": \"precision_score_micro_max\", \"stepped\": true, \"type\": \"scatter\", \"data\": [0.9533333333333335, 0.9533333333333335, 0.9533333333333335, 0.9666666666666668, 0.9666666666666668, 0.9666666666666668, 0.9666666666666668, 0.9666666666666668]}], \"average_precision_score_weighted\": [{\"categories\": [\"0\", \"1\", \"4\", \"7\", \"9\", \"12\", \"20\", \"21\"], \"mode\": \"markers\", \"name\": \"average_precision_score_weighted\", \"stepped\": false, \"type\": \"scatter\", \"data\": [0.9815606985606985, 0.9671069948569949, 0.9783935589370373, 0.9895869870869871, 0.9888214193214193, 0.9799524734524734, 0.9963674843674843, 0.9946738816738817]}, {\"categories\": [\"0\", \"1\", \"4\", \"7\", \"9\", \"12\", \"20\", \"21\"], \"mode\": \"lines\", \"name\": \"average_precision_score_weighted_max\", \"stepped\": true, \"type\": \"scatter\", \"data\": [0.9815606985606985, 0.9815606985606985, 0.9815606985606985, 0.9895869870869871, 0.9895869870869871, 0.9895869870869871, 0.9963674843674843, 0.9963674843674843]}], \"precision_score_macro\": [{\"categories\": [\"0\", \"1\", \"4\", \"7\", \"9\", \"12\", \"20\", \"21\"], \"mode\": \"markers\", \"name\": \"precision_score_macro\", \"stepped\": false, \"type\": \"scatter\", \"data\": [0.9525213675213676, 0.9480769230769232, 0.9571428571428571, 0.9664037814037816, 0.9480769230769232, 0.9447171347171347, 0.9545584045584047, 0.8564814814814815]}, {\"categories\": [\"0\", \"1\", \"4\", \"7\", \"9\", \"12\", \"20\", \"21\"], \"mode\": \"lines\", \"name\": \"precision_score_macro_max\", \"stepped\": true, \"type\": \"scatter\", \"data\": [0.9525213675213676, 0.9525213675213676, 0.9571428571428571, 0.9664037814037816, 0.9664037814037816, 0.9664037814037816, 0.9664037814037816, 0.9664037814037816]}], \"AUC_micro\": [{\"categories\": [\"0\", \"1\", \"4\", \"7\", \"9\", \"12\", \"20\", \"21\"], \"mode\": \"markers\", \"name\": \"AUC_micro\", \"stepped\": false, \"type\": \"scatter\", \"data\": [0.9896666666666667, 0.9828888888888889, 0.9908888888888889, 0.9961111111111111, 0.9943333333333333, 0.9923333333333332, 0.9981111111111112, 0.9415555555555555]}, {\"categories\": [\"0\", \"1\", \"4\", \"7\", \"9\", \"12\", \"20\", \"21\"], \"mode\": \"lines\", \"name\": \"AUC_micro_max\", \"stepped\": true, \"type\": \"scatter\", \"data\": [0.9896666666666667, 0.9896666666666667, 0.9908888888888889, 0.9961111111111111, 0.9961111111111111, 0.9961111111111111, 0.9981111111111112, 0.9981111111111112]}], \"log_loss\": [{\"categories\": [\"0\", \"1\", \"4\", \"7\", \"9\", \"12\", \"20\", \"21\"], \"mode\": \"markers\", \"name\": \"log_loss\", \"stepped\": false, \"type\": \"scatter\", \"data\": [0.26944307961720176, 0.207861684351887, 0.19004459086021191, 0.12222550545349753, 0.14543431333897772, 0.17985613454108884, 0.17044051822321632, 0.2929239607231111]}, {\"categories\": [\"0\", \"1\", \"4\", \"7\", \"9\", \"12\", \"20\", \"21\"], \"mode\": \"lines\", \"name\": \"log_loss_min\", \"stepped\": true, \"type\": \"scatter\", \"data\": [0.26944307961720176, 0.207861684351887, 0.19004459086021191, 0.12222550545349753, 0.12222550545349753, 0.12222550545349753, 0.12222550545349753, 0.12222550545349753]}], \"precision_score_weighted\": [{\"categories\": [\"0\", \"1\", \"4\", \"7\", \"9\", \"12\", \"20\", \"21\"], \"mode\": \"markers\", \"name\": \"precision_score_weighted\", \"stepped\": false, \"type\": \"scatter\", \"data\": [0.9564886039886039, 0.9502663817663818, 0.9586455026455027, 0.9686188811188812, 0.9502663817663818, 0.9476923076923077, 0.9548034188034187, 0.8496111111111111]}, {\"categories\": [\"0\", \"1\", \"4\", \"7\", \"9\", \"12\", \"20\", \"21\"], \"mode\": \"lines\", \"name\": \"precision_score_weighted_max\", \"stepped\": true, \"type\": \"scatter\", \"data\": [0.9564886039886039, 0.9564886039886039, 0.9586455026455027, 0.9686188811188812, 0.9686188811188812, 0.9686188811188812, 0.9686188811188812, 0.9686188811188812]}], \"f1_score_macro\": [{\"categories\": [\"0\", \"1\", \"4\", \"7\", \"9\", \"12\", \"20\", \"21\"], \"mode\": \"markers\", \"name\": \"f1_score_macro\", \"stepped\": false, \"type\": \"scatter\", \"data\": [0.9517672806496336, 0.9443402249467159, 0.9506433923675303, 0.965740735280467, 0.9443402249467159, 0.9445325105887765, 0.9513911691715731, 0.8727431766412277]}, {\"categories\": [\"0\", \"1\", \"4\", \"7\", \"9\", \"12\", \"20\", \"21\"], \"mode\": \"lines\", \"name\": \"f1_score_macro_max\", \"stepped\": true, \"type\": \"scatter\", \"data\": [0.9517672806496336, 0.9517672806496336, 0.9517672806496336, 0.965740735280467, 0.965740735280467, 0.965740735280467, 0.965740735280467, 0.965740735280467]}], \"recall_score_micro\": [{\"categories\": [\"0\", \"1\", \"4\", \"7\", \"9\", \"12\", \"20\", \"21\"], \"mode\": \"markers\", \"name\": \"recall_score_micro\", \"stepped\": false, \"type\": \"scatter\", \"data\": [0.9533333333333335, 0.9466666666666669, 0.9533333333333335, 0.9666666666666668, 0.9466666666666669, 0.9466666666666667, 0.9533333333333335, 0.8933333333333333]}, {\"categories\": [\"0\", \"1\", \"4\", \"7\", \"9\", \"12\", \"20\", \"21\"], \"mode\": \"lines\", \"name\": \"recall_score_micro_max\", \"stepped\": true, \"type\": \"scatter\", \"data\": [0.9533333333333335, 0.9533333333333335, 0.9533333333333335, 0.9666666666666668, 0.9666666666666668, 0.9666666666666668, 0.9666666666666668, 0.9666666666666668]}], \"accuracy\": [{\"categories\": [\"0\", \"1\", \"4\", \"7\", \"9\", \"12\", \"20\", \"21\"], \"mode\": \"markers\", \"name\": \"accuracy\", \"stepped\": false, \"type\": \"scatter\", \"data\": [0.9533333333333335, 0.9466666666666669, 0.9533333333333335, 0.9666666666666668, 0.9466666666666669, 0.9466666666666667, 0.9533333333333335, 0.8933333333333333]}, {\"categories\": [\"0\", \"1\", \"4\", \"7\", \"9\", \"12\", \"20\", \"21\"], \"mode\": \"lines\", \"name\": \"accuracy_max\", \"stepped\": true, \"type\": \"scatter\", \"data\": [0.9533333333333335, 0.9533333333333335, 0.9533333333333335, 0.9666666666666668, 0.9666666666666668, 0.9666666666666668, 0.9666666666666668, 0.9666666666666668]}], \"AUC_weighted\": [{\"categories\": [\"0\", \"1\", \"4\", \"7\", \"9\", \"12\", \"20\", \"21\"], \"mode\": \"markers\", \"name\": \"AUC_weighted\", \"stepped\": false, \"type\": \"scatter\", \"data\": [0.9871269841269841, 0.9815739015412929, 0.9881082930756845, 0.9938091787439614, 0.9931612031285946, 0.9883248792270531, 0.9979735449735448, 0.996968253968254]}, {\"categories\": [\"0\", \"1\", \"4\", \"7\", \"9\", \"12\", \"20\", \"21\"], \"mode\": \"lines\", \"name\": \"AUC_weighted_max\", \"stepped\": true, \"type\": \"scatter\", \"data\": [0.9871269841269841, 0.9871269841269841, 0.9881082930756845, 0.9938091787439614, 0.9938091787439614, 0.9938091787439614, 0.9979735449735448, 0.9979735449735448]}], \"weighted_accuracy\": [{\"categories\": [\"0\", \"1\", \"4\", \"7\", \"9\", \"12\", \"20\", \"21\"], \"mode\": \"markers\", \"name\": \"weighted_accuracy\", \"stepped\": false, \"type\": \"scatter\", \"data\": [0.9525227512019697, 0.9482282726743623, 0.9560714099292644, 0.9662792418799885, 0.9482282726743623, 0.9472826277210586, 0.9558715847762734, 0.8813617808547047]}, {\"categories\": [\"0\", \"1\", \"4\", \"7\", \"9\", \"12\", \"20\", \"21\"], \"mode\": \"lines\", \"name\": \"weighted_accuracy_max\", \"stepped\": true, \"type\": \"scatter\", \"data\": [0.9525227512019697, 0.9525227512019697, 0.9560714099292644, 0.9662792418799885, 0.9662792418799885, 0.9662792418799885, 0.9662792418799885, 0.9662792418799885]}], \"average_precision_score_micro\": [{\"categories\": [\"0\", \"1\", \"4\", \"7\", \"9\", \"12\", \"20\", \"21\"], \"mode\": \"markers\", \"name\": \"average_precision_score_micro\", \"stepped\": false, \"type\": \"scatter\", \"data\": [0.9812752607835256, 0.9634022162371909, 0.9826827814041742, 0.9926117046384118, 0.9897657875694819, 0.9854793407030012, 0.9965005760368664, 0.9417991187691745]}, {\"categories\": [\"0\", \"1\", \"4\", \"7\", \"9\", \"12\", \"20\", \"21\"], \"mode\": \"lines\", \"name\": \"average_precision_score_micro_max\", \"stepped\": true, \"type\": \"scatter\", \"data\": [0.9812752607835256, 0.9812752607835256, 0.9826827814041742, 0.9926117046384118, 0.9926117046384118, 0.9926117046384118, 0.9965005760368664, 0.9965005760368664]}], \"matthews_correlation\": [{\"categories\": [\"0\", \"1\", \"4\", \"7\", \"9\", \"12\", \"20\", \"21\"], \"mode\": \"markers\", \"name\": \"matthews_correlation\", \"stepped\": false, \"type\": \"scatter\", \"data\": [0.9308579042143602, 0.920629511409973, 0.9316435325362018, 0.9504346003239353, 0.920629511409973, 0.9190354607927975, 0.9297129913333582, 0.8664789378739732]}, {\"categories\": [\"0\", \"1\", \"4\", \"7\", \"9\", \"12\", \"20\", \"21\"], \"mode\": \"lines\", \"name\": \"matthews_correlation_max\", \"stepped\": true, \"type\": \"scatter\", \"data\": [0.9308579042143602, 0.9308579042143602, 0.9316435325362018, 0.9504346003239353, 0.9504346003239353, 0.9504346003239353, 0.9504346003239353, 0.9504346003239353]}], \"recall_score_weighted\": [{\"categories\": [\"0\", \"1\", \"4\", \"7\", \"9\", \"12\", \"20\", \"21\"], \"mode\": \"markers\", \"name\": \"recall_score_weighted\", \"stepped\": false, \"type\": \"scatter\", \"data\": [0.9533333333333335, 0.9466666666666669, 0.9533333333333335, 0.9666666666666668, 0.9466666666666669, 0.9466666666666667, 0.9533333333333335, 0.8933333333333333]}, {\"categories\": [\"0\", \"1\", \"4\", \"7\", \"9\", \"12\", \"20\", \"21\"], \"mode\": \"lines\", \"name\": \"recall_score_weighted_max\", \"stepped\": true, \"type\": \"scatter\", \"data\": [0.9533333333333335, 0.9533333333333335, 0.9533333333333335, 0.9666666666666668, 0.9666666666666668, 0.9666666666666668, 0.9666666666666668, 0.9666666666666668]}]}, \"metricName\": null, \"primaryMetricName\": \"AUC_weighted\", \"showLegend\": false}, \"run_metrics\": [{\"name\": \"experiment_status\", \"run_id\": \"AutoML_c2216245-2f41-4911-ba1a-eb291290f916\", \"categories\": [0, 1, 2, 3, 4, 5, 6, 7, 8, 9, 10, 11, 12, 13], \"series\": [{\"data\": [\"DatasetEvaluation\", \"FeaturesGeneration\", \"DatasetFeaturization\", \"DatasetFeaturizationCompleted\", \"DatasetCrossValidationSplit\", \"ModelSelection\", \"BestRunExplainModel\", \"ModelExplanationDataSetSetup\", \"PickSurrogateModel\", \"EngineeredFeatureExplanations\", \"EngineeredFeatureExplanations\", \"RawFeaturesExplanations\", \"RawFeaturesExplanations\", \"BestRunExplainModel\"]}]}, {\"name\": \"experiment_status_description\", \"run_id\": \"AutoML_c2216245-2f41-4911-ba1a-eb291290f916\", \"categories\": [0, 1, 2, 3, 4, 5, 6, 7, 8, 9, 10, 11, 12, 13], \"series\": [{\"data\": [\"Gathering dataset statistics.\", \"Generating features for the dataset.\", \"Beginning to fit featurizers and featurize the dataset.\", \"Completed fit featurizers and featurizing the dataset.\", \"Generating individually featurized CV splits.\", \"Beginning model selection.\", \"Best run model explanations started\", \"Model explanations data setup completed\", \"Choosing LightGBM as the surrogate model for explanations\", \"Computation of engineered features started\", \"Computation of engineered features completed\", \"Computation of raw features started\", \"Computation of raw features completed\", \"Best run model explanations completed\"]}]}, {\"name\": \"AUC_weighted\", \"run_id\": \"AutoML_c2216245-2f41-4911-ba1a-eb291290f916\", \"categories\": [0], \"series\": [{\"data\": [0.9979735449735448]}]}, {\"name\": \"recall_score_weighted\", \"run_id\": \"AutoML_c2216245-2f41-4911-ba1a-eb291290f916\", \"categories\": [0], \"series\": [{\"data\": [0.9533333333333335]}]}, {\"name\": \"f1_score_macro\", \"run_id\": \"AutoML_c2216245-2f41-4911-ba1a-eb291290f916\", \"categories\": [0], \"series\": [{\"data\": [0.9513911691715731]}]}, {\"name\": \"log_loss\", \"run_id\": \"AutoML_c2216245-2f41-4911-ba1a-eb291290f916\", \"categories\": [0], \"series\": [{\"data\": [0.17044051822321632]}]}, {\"name\": \"f1_score_micro\", \"run_id\": \"AutoML_c2216245-2f41-4911-ba1a-eb291290f916\", \"categories\": [0], \"series\": [{\"data\": [0.9533333333333335]}]}, {\"name\": \"average_precision_score_macro\", \"run_id\": \"AutoML_c2216245-2f41-4911-ba1a-eb291290f916\", \"categories\": [0], \"series\": [{\"data\": [0.9962957618513174]}]}, {\"name\": \"precision_score_micro\", \"run_id\": \"AutoML_c2216245-2f41-4911-ba1a-eb291290f916\", \"categories\": [0], \"series\": [{\"data\": [0.9533333333333335]}]}, {\"name\": \"accuracy\", \"run_id\": \"AutoML_c2216245-2f41-4911-ba1a-eb291290f916\", \"categories\": [0], \"series\": [{\"data\": [0.9533333333333335]}]}, {\"name\": \"average_precision_score_micro\", \"run_id\": \"AutoML_c2216245-2f41-4911-ba1a-eb291290f916\", \"categories\": [0], \"series\": [{\"data\": [0.9965005760368664]}]}, {\"name\": \"f1_score_weighted\", \"run_id\": \"AutoML_c2216245-2f41-4911-ba1a-eb291290f916\", \"categories\": [0], \"series\": [{\"data\": [0.9530809249975315]}]}, {\"name\": \"recall_score_macro\", \"run_id\": \"AutoML_c2216245-2f41-4911-ba1a-eb291290f916\", \"categories\": [0], \"series\": [{\"data\": [0.9504761904761905]}]}, {\"name\": \"norm_macro_recall\", \"run_id\": \"AutoML_c2216245-2f41-4911-ba1a-eb291290f916\", \"categories\": [0], \"series\": [{\"data\": [0.9257142857142856]}]}, {\"name\": \"average_precision_score_weighted\", \"run_id\": \"AutoML_c2216245-2f41-4911-ba1a-eb291290f916\", \"categories\": [0], \"series\": [{\"data\": [0.9963674843674843]}]}, {\"name\": \"precision_score_weighted\", \"run_id\": \"AutoML_c2216245-2f41-4911-ba1a-eb291290f916\", \"categories\": [0], \"series\": [{\"data\": [0.9548034188034187]}]}, {\"name\": \"weighted_accuracy\", \"run_id\": \"AutoML_c2216245-2f41-4911-ba1a-eb291290f916\", \"categories\": [0], \"series\": [{\"data\": [0.9558715847762734]}]}, {\"name\": \"precision_score_macro\", \"run_id\": \"AutoML_c2216245-2f41-4911-ba1a-eb291290f916\", \"categories\": [0], \"series\": [{\"data\": [0.9545584045584047]}]}, {\"name\": \"balanced_accuracy\", \"run_id\": \"AutoML_c2216245-2f41-4911-ba1a-eb291290f916\", \"categories\": [0], \"series\": [{\"data\": [0.9504761904761905]}]}, {\"name\": \"AUC_macro\", \"run_id\": \"AutoML_c2216245-2f41-4911-ba1a-eb291290f916\", \"categories\": [0], \"series\": [{\"data\": [0.9979911816578484]}]}, {\"name\": \"recall_score_micro\", \"run_id\": \"AutoML_c2216245-2f41-4911-ba1a-eb291290f916\", \"categories\": [0], \"series\": [{\"data\": [0.9533333333333335]}]}, {\"name\": \"AUC_micro\", \"run_id\": \"AutoML_c2216245-2f41-4911-ba1a-eb291290f916\", \"categories\": [0], \"series\": [{\"data\": [0.9981111111111112]}]}, {\"name\": \"matthews_correlation\", \"run_id\": \"AutoML_c2216245-2f41-4911-ba1a-eb291290f916\", \"categories\": [0], \"series\": [{\"data\": [0.9297129913333582]}]}], \"run_logs\": \"\\nRun is completed.\", \"graph\": {}, \"widget_settings\": {\"childWidgetDisplay\": \"popup\", \"send_telemetry\": false, \"log_level\": \"INFO\", \"sdk_version\": \"1.47.0\"}, \"loading\": false}"
          },
          "metadata": {}
        }
      ],
      "execution_count": 102,
      "metadata": {
        "jupyter": {
          "source_hidden": false,
          "outputs_hidden": false
        },
        "nteract": {
          "transient": {
            "deleting": false
          }
        },
        "gather": {
          "logged": 1669871661029
        }
      }
    },
    {
      "cell_type": "code",
      "source": [
        "model_name = best_run.properties['model_name']\r\n",
        "\r\n",
        "script_file_name = 'inference/score.py'\r\n",
        "\r\n",
        "best_run.download_file('outputs/scoring_file_v_1_0_0.py', 'inference/score.py')"
      ],
      "outputs": [],
      "execution_count": 110,
      "metadata": {
        "jupyter": {
          "source_hidden": false,
          "outputs_hidden": false
        },
        "nteract": {
          "transient": {
            "deleting": false
          }
        },
        "gather": {
          "logged": 1669876531390
        }
      }
    },
    {
      "cell_type": "code",
      "source": [
        "description = 'AutoML Iris model'\r\n",
        "model = run.register_model(model_name = model_name, description = description, tags = None)\r\n",
        "\r\n",
        "print(\"Model ID\", run.model_id)"
      ],
      "outputs": [
        {
          "output_type": "stream",
          "name": "stdout",
          "text": "Model ID AutoMLc2216245220\n"
        }
      ],
      "execution_count": 104,
      "metadata": {
        "jupyter": {
          "source_hidden": false,
          "outputs_hidden": false
        },
        "nteract": {
          "transient": {
            "deleting": false
          }
        },
        "gather": {
          "logged": 1669871866802
        }
      }
    },
    {
      "cell_type": "code",
      "source": [
        "from azureml.core.environment import Environment\r\n",
        "from azureml.automl.core.shared import constants\r\n",
        "best_run.download_file(constants.CONDA_ENV_FILE_PATH, 'myenv.yml')\r\n",
        "myenv = Environment.from_conda_specification(name=\"myenv\", file_path=\"myenv.yml\")"
      ],
      "outputs": [],
      "execution_count": 105,
      "metadata": {
        "jupyter": {
          "source_hidden": false,
          "outputs_hidden": false
        },
        "nteract": {
          "transient": {
            "deleting": false
          }
        },
        "gather": {
          "logged": 1669871920549
        }
      }
    },
    {
      "cell_type": "code",
      "source": [
        "from azureml.core.model import InferenceConfig\r\n",
        "from azureml.core.webservice import AciWebservice\r\n",
        "from azureml.core.webservice import Webservice\r\n",
        "from azureml.core.model import Model\r\n",
        "from azureml.core.environment import Environment\r\n",
        "\r\n",
        "inference_config = InferenceConfig(entry_script=script_file_name, environment=myenv)\r\n",
        "\r\n",
        "aciconfig = AciWebservice.deploy_configuration(cpu_cores = 1, \r\n",
        "                                               memory_gb = 1, \r\n",
        "                                               description = 'Iris classification service')\r\n",
        "\r\n",
        "aci_service_name = 'automl-sample-bankmarketing-all'\r\n",
        "print(aci_service_name)\r\n",
        "aci_service = Model.deploy(ws, aci_service_name, [model], inference_config, aciconfig)\r\n",
        "aci_service.wait_for_deployment(True)\r\n",
        "print(aci_service.state)"
      ],
      "outputs": [
        {
          "output_type": "stream",
          "name": "stdout",
          "text": "automl-sample-bankmarketing-all\nTips: You can try get_logs(): https://aka.ms/debugimage#dockerlog or local deployment: https://aka.ms/debugimage#debug-locally to debug if deployment takes longer than 10 minutes.\nRunning\n2022-12-01 05:20:29+00:00 Creating Container Registry if not exists.\n2022-12-01 05:20:29+00:00 Registering the environment.\n2022-12-01 05:20:30+00:00 Building image..\n2022-12-01 05:40:46+00:00 Generating deployment configuration.\n2022-12-01 05:40:47+00:00 Submitting deployment to compute..\n2022-12-01 05:40:55+00:00 Checking the status of deployment automl-sample-bankmarketing-all..\n2022-12-01 05:45:21+00:00 Checking the status of inference endpoint automl-sample-bankmarketing-all.\nSucceeded\nACI service creation operation finished, operation \"Succeeded\"\nHealthy\n"
        }
      ],
      "execution_count": 106,
      "metadata": {
        "jupyter": {
          "source_hidden": false,
          "outputs_hidden": false
        },
        "nteract": {
          "transient": {
            "deleting": false
          }
        },
        "gather": {
          "logged": 1669873556488
        }
      }
    }
  ],
  "metadata": {
    "kernelspec": {
      "name": "python38-azureml",
      "language": "python",
      "display_name": "Python 3.8 - AzureML"
    },
    "language_info": {
      "name": "python",
      "version": "3.8.5",
      "mimetype": "text/x-python",
      "codemirror_mode": {
        "name": "ipython",
        "version": 3
      },
      "pygments_lexer": "ipython3",
      "nbconvert_exporter": "python",
      "file_extension": ".py"
    },
    "kernel_info": {
      "name": "python38-azureml"
    },
    "microsoft": {
      "host": {
        "AzureML": {
          "notebookHasBeenCompleted": true
        }
      }
    },
    "nteract": {
      "version": "nteract-front-end@1.0.0"
    }
  },
  "nbformat": 4,
  "nbformat_minor": 2
}